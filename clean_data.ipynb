{
 "cells": [
  {
   "cell_type": "code",
   "execution_count": 2,
   "metadata": {},
   "outputs": [],
   "source": [
    "import pandas as pd\n",
    "from common.text_utils import normalized\n",
    "from common.text_pattern import TITLE_PATTERN\n",
    "from tqdm import tqdm"
   ]
  },
  {
   "cell_type": "code",
   "execution_count": 8,
   "metadata": {},
   "outputs": [],
   "source": [
    "train_data_path = \"data/training/all_concat_name.tsv\"\n",
    "eval_data_path = \"data/eval/\""
   ]
  },
  {
   "cell_type": "code",
   "execution_count": 26,
   "metadata": {},
   "outputs": [
    {
     "name": "stderr",
     "output_type": "stream",
     "text": [
      "100%|██████████| 2552825/2552825 [00:17<00:00, 144951.56it/s]\n"
     ]
    }
   ],
   "source": [
    "#for training files\n",
    "df_train = pd.read_table(train_data_path,encoding='utf-8',usecols=[0, 1], names = ['name', 'label'])\n",
    "df_train.drop_duplicates(inplace = True)\n",
    "df_train['name'] = [normalized(name,folding= True) for name in tqdm(df_train['name'])]\n",
    "df_train.drop_duplicates(inplace = True)\n",
    "df_train.to_csv(\"data/cleaned_data/training/train.csv\")"
   ]
  },
  {
   "cell_type": "code",
   "execution_count": 25,
   "metadata": {},
   "outputs": [
    {
     "name": "stderr",
     "output_type": "stream",
     "text": [
      "100%|██████████| 131361/131361 [00:01<00:00, 87671.94it/s]\n",
      "100%|██████████| 19990/19990 [00:00<00:00, 94934.05it/s]\n",
      "100%|██████████| 157421/157421 [00:01<00:00, 124111.89it/s]\n",
      "100%|██████████| 70500/70500 [00:00<00:00, 94820.48it/s] \n"
     ]
    }
   ],
   "source": [
    "test_datasets = [\"localch\",\"random_names_eval\",\"Table-S6-career-2019\",\"viet_unigram_names\"]\n",
    "for dataset in test_datasets:\n",
    "    df_test = pd.read_table(eval_data_path + dataset + \".tsv\",encoding='utf-8',usecols=[0, 1], names = ['name', 'label'])\n",
    "    df_test.drop_duplicates(inplace = True)\n",
    "    df_test['name'] = [normalized(name,folding= True, blacklist_patterns= TITLE_PATTERN) for name in tqdm(df_test['name'])]\n",
    "    df_test.drop_duplicates(inplace = True)\n",
    "    df_test.to_csv(\"data/cleaned_data/testing/\"+ dataset+\".csv\")"
   ]
  },
  {
   "cell_type": "code",
   "execution_count": 15,
   "metadata": {},
   "outputs": [
    {
     "data": {
      "text/plain": [
       "name     False\n",
       "label    False\n",
       "dtype: bool"
      ]
     },
     "execution_count": 15,
     "metadata": {},
     "output_type": "execute_result"
    }
   ],
   "source": [
    "df_training = pd.read_csv(\"data/cleaned_data/training/train.csv\",encoding='utf-8',usecols=[1,2])\n",
    "df_train.isna().any()"
   ]
  },
  {
   "cell_type": "code",
   "execution_count": 20,
   "metadata": {},
   "outputs": [
    {
     "name": "stdout",
     "output_type": "stream",
     "text": [
      "name     False\n",
      "label    False\n",
      "dtype: bool\n"
     ]
    },
    {
     "data": {
      "text/html": [
       "<div>\n",
       "<style scoped>\n",
       "    .dataframe tbody tr th:only-of-type {\n",
       "        vertical-align: middle;\n",
       "    }\n",
       "\n",
       "    .dataframe tbody tr th {\n",
       "        vertical-align: top;\n",
       "    }\n",
       "\n",
       "    .dataframe thead th {\n",
       "        text-align: right;\n",
       "    }\n",
       "</style>\n",
       "<table border=\"1\" class=\"dataframe\">\n",
       "  <thead>\n",
       "    <tr style=\"text-align: right;\">\n",
       "      <th></th>\n",
       "      <th>name</th>\n",
       "      <th>label</th>\n",
       "    </tr>\n",
       "  </thead>\n",
       "  <tbody>\n",
       "    <tr>\n",
       "      <th>0</th>\n",
       "      <td>que adrong</td>\n",
       "      <td>0</td>\n",
       "    </tr>\n",
       "    <tr>\n",
       "      <th>1</th>\n",
       "      <td>h yua liana adrong</td>\n",
       "      <td>0</td>\n",
       "    </tr>\n",
       "    <tr>\n",
       "      <th>2</th>\n",
       "      <td>trang adrong</td>\n",
       "      <td>1</td>\n",
       "    </tr>\n",
       "    <tr>\n",
       "      <th>4</th>\n",
       "      <td>h mac adrong</td>\n",
       "      <td>0</td>\n",
       "    </tr>\n",
       "    <tr>\n",
       "      <th>5</th>\n",
       "      <td>lizzie adrong</td>\n",
       "      <td>1</td>\n",
       "    </tr>\n",
       "    <tr>\n",
       "      <th>...</th>\n",
       "      <td>...</td>\n",
       "      <td>...</td>\n",
       "    </tr>\n",
       "    <tr>\n",
       "      <th>4126090</th>\n",
       "      <td>do dinh hau</td>\n",
       "      <td>1</td>\n",
       "    </tr>\n",
       "    <tr>\n",
       "      <th>4126092</th>\n",
       "      <td>dang bich hien</td>\n",
       "      <td>1</td>\n",
       "    </tr>\n",
       "    <tr>\n",
       "      <th>4126093</th>\n",
       "      <td>dang hung van</td>\n",
       "      <td>1</td>\n",
       "    </tr>\n",
       "    <tr>\n",
       "      <th>4126094</th>\n",
       "      <td>dang nam thuong</td>\n",
       "      <td>1</td>\n",
       "    </tr>\n",
       "    <tr>\n",
       "      <th>4126098</th>\n",
       "      <td>dang thi cai</td>\n",
       "      <td>1</td>\n",
       "    </tr>\n",
       "  </tbody>\n",
       "</table>\n",
       "<p>2431899 rows × 2 columns</p>\n",
       "</div>"
      ],
      "text/plain": [
       "                       name  label\n",
       "0                que adrong      0\n",
       "1        h yua liana adrong      0\n",
       "2              trang adrong      1\n",
       "4              h mac adrong      0\n",
       "5             lizzie adrong      1\n",
       "...                     ...    ...\n",
       "4126090         do dinh hau      1\n",
       "4126092      dang bich hien      1\n",
       "4126093       dang hung van      1\n",
       "4126094     dang nam thuong      1\n",
       "4126098        dang thi cai      1\n",
       "\n",
       "[2431899 rows x 2 columns]"
      ]
     },
     "execution_count": 20,
     "metadata": {},
     "output_type": "execute_result"
    }
   ],
   "source": [
    "print(df_train.isna().any())\n",
    "df_train"
   ]
  },
  {
   "cell_type": "code",
   "execution_count": 28,
   "metadata": {},
   "outputs": [
    {
     "data": {
      "text/plain": [
       "name     False\n",
       "label    False\n",
       "dtype: bool"
      ]
     },
     "execution_count": 28,
     "metadata": {},
     "output_type": "execute_result"
    }
   ],
   "source": [
    "df_training = pd.read_csv(\"data/cleaned_data/training/train.csv\",encoding='utf-8',usecols=[1,2])\n",
    "df_training.dropna(inplace=True)\n",
    "df_training.isna().any()"
   ]
  },
  {
   "cell_type": "code",
   "execution_count": 29,
   "metadata": {},
   "outputs": [
    {
     "name": "stdout",
     "output_type": "stream",
     "text": [
      "2431898\n",
      "2431899\n"
     ]
    }
   ],
   "source": [
    "print(len(df_training))\n",
    "print(len(df_train))"
   ]
  },
  {
   "cell_type": "code",
   "execution_count": 4,
   "metadata": {},
   "outputs": [
    {
     "data": {
      "text/plain": [
       "array([1.e-02, 1.e-01, 1.e+00, 1.e+01, 1.e+02])"
      ]
     },
     "execution_count": 4,
     "metadata": {},
     "output_type": "execute_result"
    }
   ],
   "source": [
    "import numpy as np\n",
    "np.logspace(-2, 2, 5)"
   ]
  },
  {
   "cell_type": "code",
   "execution_count": null,
   "metadata": {},
   "outputs": [],
   "source": []
  }
 ],
 "metadata": {
  "kernelspec": {
   "display_name": "Python 3",
   "language": "python",
   "name": "python3"
  },
  "language_info": {
   "codemirror_mode": {
    "name": "ipython",
    "version": 3
   },
   "file_extension": ".py",
   "mimetype": "text/x-python",
   "name": "python",
   "nbconvert_exporter": "python",
   "pygments_lexer": "ipython3",
   "version": "3.11.7"
  }
 },
 "nbformat": 4,
 "nbformat_minor": 2
}
