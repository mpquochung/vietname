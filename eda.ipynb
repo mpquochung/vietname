{
 "cells": [
  {
   "cell_type": "code",
   "execution_count": 1,
   "metadata": {},
   "outputs": [],
   "source": [
    "import tensorflow as tf"
   ]
  },
  {
   "cell_type": "code",
   "execution_count": 2,
   "metadata": {},
   "outputs": [],
   "source": [
    "inputs = tf.random.normal([32, 10, 8])"
   ]
  },
  {
   "cell_type": "code",
   "execution_count": 3,
   "metadata": {},
   "outputs": [
    {
     "data": {
      "text/plain": [
       "<tf.Tensor: shape=(32, 10, 8), dtype=float32, numpy=\n",
       "array([[[-0.96721214,  0.40373224, -0.74434906, ...,  0.3962682 ,\n",
       "         -0.15046868, -0.215136  ],\n",
       "        [-2.2754204 , -0.7144877 ,  0.41786787, ..., -0.8576336 ,\n",
       "          0.65680975, -0.18057741],\n",
       "        [ 1.8278099 ,  0.15481734, -0.17198919, ...,  1.8385226 ,\n",
       "          0.26569715, -0.5827259 ],\n",
       "        ...,\n",
       "        [ 0.41822144, -0.42267326,  0.11152183, ...,  0.14401893,\n",
       "         -0.3994447 , -0.11547012],\n",
       "        [-0.41480756,  1.0593779 , -0.2694964 , ...,  0.83176994,\n",
       "          0.9767616 , -0.8516243 ],\n",
       "        [ 1.4832373 ,  0.48770455,  0.978535  , ...,  0.29875013,\n",
       "         -0.84944826, -0.6064818 ]],\n",
       "\n",
       "       [[ 0.1057469 , -2.8538413 ,  0.6896687 , ...,  1.2454469 ,\n",
       "          0.6190778 , -1.07913   ],\n",
       "        [-1.0028394 ,  0.2582283 , -1.6323948 , ..., -2.119204  ,\n",
       "          1.539598  , -1.6212388 ],\n",
       "        [ 0.7581547 , -1.7630371 , -0.39298454, ...,  0.57524467,\n",
       "          1.2557578 , -0.8311442 ],\n",
       "        ...,\n",
       "        [ 1.9430497 ,  0.41614357, -0.8278154 , ..., -0.8275094 ,\n",
       "          0.10126143, -0.08680421],\n",
       "        [-1.7975678 , -1.1425364 , -0.2059776 , ..., -0.65285593,\n",
       "         -0.36321568, -0.86862826],\n",
       "        [-0.5346674 , -1.5579972 , -0.05583153, ..., -0.9861397 ,\n",
       "         -0.16019498, -0.16881493]],\n",
       "\n",
       "       [[ 1.2759439 ,  2.1370044 ,  0.9858582 , ..., -1.5068237 ,\n",
       "         -0.9180015 ,  1.3876954 ],\n",
       "        [ 0.9761045 ,  1.5030414 , -0.4002198 , ..., -0.15310784,\n",
       "         -0.36954388, -1.2262437 ],\n",
       "        [-0.4446783 , -0.9445697 , -0.66818494, ..., -0.74423784,\n",
       "         -0.6930224 ,  0.5425163 ],\n",
       "        ...,\n",
       "        [ 0.0313547 , -1.8175868 ,  0.5038275 , ..., -0.10489941,\n",
       "         -1.3256047 , -0.5444372 ],\n",
       "        [ 0.48969987,  1.4085579 ,  0.19331543, ..., -0.40581408,\n",
       "          1.1670389 ,  0.27001965],\n",
       "        [-0.10610783, -0.43042096,  0.16875464, ..., -0.8631933 ,\n",
       "         -0.559301  ,  0.9626334 ]],\n",
       "\n",
       "       ...,\n",
       "\n",
       "       [[-0.13461965,  0.5197313 , -0.9608339 , ...,  1.0773063 ,\n",
       "         -0.830254  ,  0.5404316 ],\n",
       "        [ 1.2518599 , -1.1727493 , -0.76227236, ..., -0.5243028 ,\n",
       "         -1.1348914 , -0.09210309],\n",
       "        [-0.00606379,  1.9999026 , -0.84351957, ..., -2.53406   ,\n",
       "          1.0913374 , -1.9011331 ],\n",
       "        ...,\n",
       "        [-1.5666649 , -0.40054372, -0.12150936, ...,  0.11542676,\n",
       "         -0.07652888, -0.608825  ],\n",
       "        [-0.55552596,  0.5908716 ,  1.0511537 , ...,  0.09758403,\n",
       "         -0.7481681 ,  0.09261847],\n",
       "        [ 0.19764392, -1.1813508 , -0.55858743, ..., -0.1782341 ,\n",
       "          0.4164867 , -1.1528829 ]],\n",
       "\n",
       "       [[-0.5818559 , -0.6357161 ,  0.29376665, ...,  0.4048181 ,\n",
       "         -0.29240802, -0.02088298],\n",
       "        [ 0.3671496 , -0.69830596, -0.7793567 , ..., -0.11879208,\n",
       "          0.43475783, -1.3537949 ],\n",
       "        [-0.3156018 ,  0.45981738,  0.4951959 , ..., -1.8639717 ,\n",
       "          1.4832871 , -1.599665  ],\n",
       "        ...,\n",
       "        [ 0.9548036 , -0.07523567,  1.0694474 , ...,  0.00351833,\n",
       "          0.50799507,  0.30500054],\n",
       "        [ 1.4919331 ,  1.1281581 , -0.57641613, ..., -1.3218349 ,\n",
       "          0.01969161, -0.16558248],\n",
       "        [ 0.8172624 ,  0.93780285,  0.02696343, ...,  0.7451781 ,\n",
       "         -0.19229628,  0.07362586]],\n",
       "\n",
       "       [[ 0.39870128, -0.21096914,  0.38839915, ...,  0.17418076,\n",
       "         -0.8740727 , -0.87559414],\n",
       "        [-1.4509859 ,  1.1299856 ,  0.2826908 , ...,  1.0866566 ,\n",
       "          0.09560911, -0.25431702],\n",
       "        [-0.05936521, -1.2654376 , -0.43643978, ..., -0.83391964,\n",
       "          0.70070523,  0.28583583],\n",
       "        ...,\n",
       "        [-1.2816797 ,  0.04609589,  0.40340143, ...,  0.14518069,\n",
       "         -0.5746195 , -1.1791122 ],\n",
       "        [ 1.5759065 ,  0.29710802, -0.19848078, ..., -0.7370304 ,\n",
       "          0.51495993, -0.84964144],\n",
       "        [-1.0993289 , -0.07497546,  0.3695979 , ...,  0.8076399 ,\n",
       "          0.49438643,  0.37629274]]], dtype=float32)>"
      ]
     },
     "execution_count": 3,
     "metadata": {},
     "output_type": "execute_result"
    }
   ],
   "source": [
    "inputs"
   ]
  },
  {
   "cell_type": "code",
   "execution_count": 5,
   "metadata": {},
   "outputs": [],
   "source": [
    "lstm = tf.keras.layers.LSTM(4)\n",
    "output = lstm(inputs)\n"
   ]
  },
  {
   "cell_type": "code",
   "execution_count": 6,
   "metadata": {},
   "outputs": [
    {
     "data": {
      "text/plain": [
       "<tf.Tensor: shape=(32, 4), dtype=float32, numpy=\n",
       "array([[ 0.35891378,  0.02555304,  0.35924208,  0.24291737],\n",
       "       [-0.56004333, -0.03289614,  0.3659145 ,  0.15905508],\n",
       "       [-0.3368716 , -0.22344063,  0.55728066, -0.0692952 ],\n",
       "       [-0.03161412,  0.11446089,  0.3168618 , -0.34705743],\n",
       "       [-0.29098657,  0.07689756, -0.2720586 , -0.03361539],\n",
       "       [-0.33036274,  0.19337177,  0.19400501, -0.25222084],\n",
       "       [ 0.27395368,  0.15789218,  0.12909147,  0.07912619],\n",
       "       [-0.15876934,  0.35152608, -0.33629492, -0.268789  ],\n",
       "       [ 0.067332  , -0.01402214,  0.01973805,  0.06641507],\n",
       "       [ 0.1643007 , -0.02062006,  0.17693444, -0.0499724 ],\n",
       "       [-0.25169465,  0.09285326, -0.06892808,  0.1125147 ],\n",
       "       [ 0.3139661 ,  0.22859147,  0.30761945, -0.10676587],\n",
       "       [-0.18006407,  0.01700202,  0.191857  , -0.10582963],\n",
       "       [-0.34142217, -0.2900842 ,  0.17660166, -0.17565487],\n",
       "       [ 0.00643548, -0.00069254, -0.23296902, -0.16142815],\n",
       "       [-0.07770142, -0.36355522,  0.05738994, -0.04150172],\n",
       "       [ 0.02274566,  0.47959253, -0.04175603,  0.03813341],\n",
       "       [ 0.1981904 ,  0.23029508,  0.06685775,  0.00807116],\n",
       "       [-0.02733906, -0.01500832,  0.1412168 ,  0.30956078],\n",
       "       [-0.5442107 ,  0.01055043,  0.38461667, -0.11336575],\n",
       "       [ 0.06523322, -0.0893366 , -0.01565525,  0.07290261],\n",
       "       [-0.27696204, -0.19169325,  0.15503943, -0.00306675],\n",
       "       [ 0.24391955, -0.02741767, -0.03333746, -0.0155247 ],\n",
       "       [ 0.0195948 ,  0.24955976, -0.01371005, -0.00750092],\n",
       "       [-0.6088995 , -0.30424422,  0.46604738,  0.00354522],\n",
       "       [-0.14305228,  0.01695848,  0.01273583,  0.05323379],\n",
       "       [-0.14078665, -0.00865923,  0.01345576, -0.01219217],\n",
       "       [-0.06029199, -0.0583134 , -0.00355984, -0.17357752],\n",
       "       [ 0.24381354,  0.16662292,  0.30308628,  0.16121519],\n",
       "       [-0.06094428, -0.11767608,  0.11602975,  0.21803792],\n",
       "       [ 0.06906965, -0.05670756, -0.17772594, -0.00906636],\n",
       "       [-0.18422748,  0.04146808, -0.00996101, -0.15739463]],\n",
       "      dtype=float32)>"
      ]
     },
     "execution_count": 6,
     "metadata": {},
     "output_type": "execute_result"
    }
   ],
   "source": [
    "output"
   ]
  },
  {
   "cell_type": "code",
   "execution_count": 7,
   "metadata": {},
   "outputs": [],
   "source": [
    "from tensorflow.keras.models import load_model\n"
   ]
  },
  {
   "cell_type": "code",
   "execution_count": 8,
   "metadata": {},
   "outputs": [
    {
     "name": "stderr",
     "output_type": "stream",
     "text": [
      "c:\\Users\\maphq\\miniconda3\\Lib\\site-packages\\keras\\src\\saving\\saving_lib.py:396: UserWarning: Skipping variable loading for optimizer 'adam', because it has 70 variables whereas the saved optimizer has 52 variables. \n",
      "  trackable.load_own_variables(weights_store.get(inner_path))\n"
     ]
    },
    {
     "ename": "ValueError",
     "evalue": "A total of 3 objects could not be loaded. Example error message for object <LSTMCell name=lstm_cell, built=True>:\n\nLayer 'lstm_cell' expected 3 variables, but received 0 variables during loading. Expected: ['kernel', 'recurrent_kernel', 'bias']\n\nList of objects that could not be loaded:\n[<LSTMCell name=lstm_cell, built=True>, <LSTMCell name=lstm_cell, built=True>, <LSTMCell name=lstm_cell, built=True>]",
     "output_type": "error",
     "traceback": [
      "\u001b[1;31m---------------------------------------------------------------------------\u001b[0m",
      "\u001b[1;31mValueError\u001b[0m                                Traceback (most recent call last)",
      "Cell \u001b[1;32mIn[8], line 1\u001b[0m\n\u001b[1;32m----> 1\u001b[0m model \u001b[38;5;241m=\u001b[39m \u001b[43mload_model\u001b[49m\u001b[43m(\u001b[49m\u001b[38;5;124;43m\"\u001b[39;49m\u001b[38;5;124;43mmodel/lstm_classifier.keras\u001b[39;49m\u001b[38;5;124;43m\"\u001b[39;49m\u001b[43m)\u001b[49m\n",
      "File \u001b[1;32mc:\\Users\\maphq\\miniconda3\\Lib\\site-packages\\keras\\src\\saving\\saving_api.py:176\u001b[0m, in \u001b[0;36mload_model\u001b[1;34m(filepath, custom_objects, compile, safe_mode)\u001b[0m\n\u001b[0;32m    173\u001b[0m         is_keras_zip \u001b[38;5;241m=\u001b[39m \u001b[38;5;28;01mTrue\u001b[39;00m\n\u001b[0;32m    175\u001b[0m \u001b[38;5;28;01mif\u001b[39;00m is_keras_zip:\n\u001b[1;32m--> 176\u001b[0m     \u001b[38;5;28;01mreturn\u001b[39;00m \u001b[43msaving_lib\u001b[49m\u001b[38;5;241;43m.\u001b[39;49m\u001b[43mload_model\u001b[49m\u001b[43m(\u001b[49m\n\u001b[0;32m    177\u001b[0m \u001b[43m        \u001b[49m\u001b[43mfilepath\u001b[49m\u001b[43m,\u001b[49m\n\u001b[0;32m    178\u001b[0m \u001b[43m        \u001b[49m\u001b[43mcustom_objects\u001b[49m\u001b[38;5;241;43m=\u001b[39;49m\u001b[43mcustom_objects\u001b[49m\u001b[43m,\u001b[49m\n\u001b[0;32m    179\u001b[0m \u001b[43m        \u001b[49m\u001b[38;5;28;43mcompile\u001b[39;49m\u001b[38;5;241;43m=\u001b[39;49m\u001b[38;5;28;43mcompile\u001b[39;49m\u001b[43m,\u001b[49m\n\u001b[0;32m    180\u001b[0m \u001b[43m        \u001b[49m\u001b[43msafe_mode\u001b[49m\u001b[38;5;241;43m=\u001b[39;49m\u001b[43msafe_mode\u001b[49m\u001b[43m,\u001b[49m\n\u001b[0;32m    181\u001b[0m \u001b[43m    \u001b[49m\u001b[43m)\u001b[49m\n\u001b[0;32m    182\u001b[0m \u001b[38;5;28;01mif\u001b[39;00m \u001b[38;5;28mstr\u001b[39m(filepath)\u001b[38;5;241m.\u001b[39mendswith((\u001b[38;5;124m\"\u001b[39m\u001b[38;5;124m.h5\u001b[39m\u001b[38;5;124m\"\u001b[39m, \u001b[38;5;124m\"\u001b[39m\u001b[38;5;124m.hdf5\u001b[39m\u001b[38;5;124m\"\u001b[39m)):\n\u001b[0;32m    183\u001b[0m     \u001b[38;5;28;01mreturn\u001b[39;00m legacy_h5_format\u001b[38;5;241m.\u001b[39mload_model_from_hdf5(filepath)\n",
      "File \u001b[1;32mc:\\Users\\maphq\\miniconda3\\Lib\\site-packages\\keras\\src\\saving\\saving_lib.py:192\u001b[0m, in \u001b[0;36mload_model\u001b[1;34m(filepath, custom_objects, compile, safe_mode)\u001b[0m\n\u001b[0;32m    189\u001b[0m         asset_store\u001b[38;5;241m.\u001b[39mclose()\n\u001b[0;32m    191\u001b[0m     \u001b[38;5;28;01mif\u001b[39;00m failed_trackables:\n\u001b[1;32m--> 192\u001b[0m         \u001b[43m_raise_loading_failure\u001b[49m\u001b[43m(\u001b[49m\u001b[43merror_msgs\u001b[49m\u001b[43m)\u001b[49m\n\u001b[0;32m    193\u001b[0m \u001b[38;5;28;01mreturn\u001b[39;00m model\n",
      "File \u001b[1;32mc:\\Users\\maphq\\miniconda3\\Lib\\site-packages\\keras\\src\\saving\\saving_lib.py:273\u001b[0m, in \u001b[0;36m_raise_loading_failure\u001b[1;34m(error_msgs, warn_only)\u001b[0m\n\u001b[0;32m    271\u001b[0m     warnings\u001b[38;5;241m.\u001b[39mwarn(msg)\n\u001b[0;32m    272\u001b[0m \u001b[38;5;28;01melse\u001b[39;00m:\n\u001b[1;32m--> 273\u001b[0m     \u001b[38;5;28;01mraise\u001b[39;00m \u001b[38;5;167;01mValueError\u001b[39;00m(msg)\n",
      "\u001b[1;31mValueError\u001b[0m: A total of 3 objects could not be loaded. Example error message for object <LSTMCell name=lstm_cell, built=True>:\n\nLayer 'lstm_cell' expected 3 variables, but received 0 variables during loading. Expected: ['kernel', 'recurrent_kernel', 'bias']\n\nList of objects that could not be loaded:\n[<LSTMCell name=lstm_cell, built=True>, <LSTMCell name=lstm_cell, built=True>, <LSTMCell name=lstm_cell, built=True>]"
     ]
    }
   ],
   "source": [
    "model = load_model(\"model/lstm_classifier.keras\")"
   ]
  },
  {
   "cell_type": "code",
   "execution_count": null,
   "metadata": {},
   "outputs": [],
   "source": []
  }
 ],
 "metadata": {
  "kernelspec": {
   "display_name": "base",
   "language": "python",
   "name": "python3"
  },
  "language_info": {
   "codemirror_mode": {
    "name": "ipython",
    "version": 3
   },
   "file_extension": ".py",
   "mimetype": "text/x-python",
   "name": "python",
   "nbconvert_exporter": "python",
   "pygments_lexer": "ipython3",
   "version": "3.11.8"
  }
 },
 "nbformat": 4,
 "nbformat_minor": 2
}
